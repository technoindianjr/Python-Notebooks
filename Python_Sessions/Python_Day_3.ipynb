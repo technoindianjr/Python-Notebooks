{
 "cells": [
  {
   "cell_type": "markdown",
   "metadata": {
    "id": "OqA2UyK_S0pT"
   },
   "source": [
    "# Basics of Booleans, Conditional Statements, and Loops in Python\n"
   ]
  },
  {
   "cell_type": "markdown",
   "metadata": {
    "id": "TOOnlvkUS6Zv"
   },
   "source": [
    "## 1. Boolean Values\n",
    "\n",
    "**Booleans** are the simplest data type in Python. They represent one of two values:\n",
    "- `True`\n",
    "- `False`"
   ]
  },
  {
   "cell_type": "code",
   "execution_count": 1,
   "metadata": {
    "colab": {
     "base_uri": "https://localhost:8080/"
    },
    "id": "0P-VK-LgOz0s",
    "outputId": "21b98e42-3556-42f9-b549-3ad80db33723"
   },
   "outputs": [
    {
     "name": "stdout",
     "output_type": "stream",
     "text": [
      "Is it sunny? True\n",
      "Is it raining? False\n"
     ]
    }
   ],
   "source": [
    "# Example 1: Boolean Variables\n",
    "is_sunny = True\n",
    "is_raining = False\n",
    "\n",
    "print(f\"Is it sunny? {is_sunny}\")\n",
    "print(f\"Is it raining? {is_raining}\")"
   ]
  },
  {
   "cell_type": "markdown",
   "metadata": {
    "id": "5RVKQrdOThLV"
   },
   "source": [
    "### Boolean Expressions\n",
    "\n",
    "Boolean values often result from **comparisons** or **logical operations**.\n",
    "\n",
    "### Common Comparison Operators:\n",
    "- `>`: Greater than\n",
    "- `<`: Less than\n",
    "- `>=`: Greater than or equal to\n",
    "- `<=`: Less than or equal to\n",
    "- `==`: Equal to\n",
    "- `!=`: Not equal to"
   ]
  },
  {
   "cell_type": "code",
   "execution_count": null,
   "metadata": {
    "id": "l6Rej_ppTr4s"
   },
   "outputs": [],
   "source": [
    "# Example 2: Comparison Operators\n",
    "a = 10\n",
    "b = 20\n",
    "\n",
    "print(a > b)  # False\n",
    "print(a < b)  # True\n",
    "print(a == b) # False"
   ]
  },
  {
   "cell_type": "markdown",
   "metadata": {
    "id": "B1cNmCFLT9mr"
   },
   "source": [
    "### Logical Operators\n",
    "\n",
    "You can combine Boolean expressions using:\n",
    "- `and`: True if both conditions are True\n",
    "- `or`: True if at least one condition is True\n",
    "- `not`: Reverses the condition"
   ]
  },
  {
   "cell_type": "code",
   "execution_count": null,
   "metadata": {
    "id": "6ZoL_BxqT-3A"
   },
   "outputs": [],
   "source": [
    "# Example 3: Using logical operators\n",
    "is_weekend = True\n",
    "is_holiday = False\n",
    "\n",
    "print(is_weekend and is_holiday)  # False\n",
    "print(is_weekend or is_holiday)   # True\n",
    "print(not is_weekend)             # False"
   ]
  },
  {
   "cell_type": "markdown",
   "metadata": {
    "id": "aPtoVvaVUh-z"
   },
   "source": [
    "## 2. Conditional Statements\n",
    "\n",
    "Conditional statements allow your program to make decisions based on conditions."
   ]
  },
  {
   "cell_type": "markdown",
   "metadata": {
    "id": "fcsHkuW2Cfv_"
   },
   "source": [
    "### 2.1 The if Statement\n",
    "The if statement runs a block of code only if a condition is True.\n",
    "\n",
    "Syntax:\n",
    "```python\n",
    "if condition:\n",
    "    # Code block executed if condition is True\n",
    "```"
   ]
  },
  {
   "cell_type": "code",
   "execution_count": null,
   "metadata": {
    "id": "Obe6aEqLDLWs"
   },
   "outputs": [],
   "source": [
    "# Example: Is the number positive?\n",
    "num = 10\n",
    "\n",
    "if num > 0:\n",
    "    print(f\"{num} is positive.\")"
   ]
  },
  {
   "cell_type": "markdown",
   "metadata": {
    "id": "R7ku90j3FZXf"
   },
   "source": [
    "### 2.2 The if-else Statement\n",
    "The if-else statement provides two paths:\n",
    "\n",
    "One for when the condition is True.\n",
    "Another for when the condition is False.\n",
    "\n",
    "Syntax:\n",
    "```python\n",
    "if condition:\n",
    "    # Code block executed if condition is True\n",
    "else:\n",
    "    # Code block executed if condition is False\n",
    "```"
   ]
  },
  {
   "cell_type": "code",
   "execution_count": null,
   "metadata": {
    "id": "KDGFuMQ9F3MD"
   },
   "outputs": [],
   "source": [
    "# Example: Is the number even or odd?\n",
    "num = 7\n",
    "\n",
    "if num % 2 == 0:\n",
    "    print(f\"{num} is even.\")\n",
    "else:\n",
    "    print(f\"{num} is odd.\")"
   ]
  },
  {
   "cell_type": "code",
   "execution_count": null,
   "metadata": {
    "id": "GxKjXWkAUvbT"
   },
   "outputs": [],
   "source": [
    "# Example 2: Find the larger number\n",
    "a = 10\n",
    "b = 20\n",
    "\n",
    "if a > b:\n",
    "    print(f\"{a} is greater than {b}.\")\n",
    "else:\n",
    "    print(f\"{b} is greater than {a}.\")"
   ]
  },
  {
   "cell_type": "markdown",
   "metadata": {
    "id": "_nSNLuDOF0RW"
   },
   "source": [
    "### 2.3 The if-elif-else Statement\n",
    "The if-elif-else statement allows you to check multiple conditions.\n",
    "\n",
    "### Syntax:\n",
    "```python\n",
    "if condition:\n",
    "    # Code block executed if condition is True\n",
    "elif another_condition:\n",
    "    # Code block executed if another_condition is True\n",
    "else:\n",
    "    # Code block executed if no conditions are True\n",
    "```"
   ]
  },
  {
   "cell_type": "code",
   "execution_count": null,
   "metadata": {
    "id": "4JZJXAXAUoTy"
   },
   "outputs": [],
   "source": [
    "# Example: Is the number positive?\n",
    "num = 5\n",
    "\n",
    "if num > 0:\n",
    "    print(\"The number is positive.\")\n",
    "elif num == 0:\n",
    "    print(\"The number is zero.\")\n",
    "else:\n",
    "    print(\"The number is negative.\")"
   ]
  },
  {
   "cell_type": "markdown",
   "metadata": {
    "id": "uYJmVN_zVkw1"
   },
   "source": [
    "\n",
    "## 3. Loops\n",
    "\n",
    "Loops allow you to repeat a block of code multiple times. In Python, there are two main types of loops:\n",
    "- **`for` loop**: Used to iterate over a sequence (like a list or range).\n",
    "- **`while` loop**: Repeats code while a condition is `True`.\n"
   ]
  },
  {
   "cell_type": "markdown",
   "metadata": {
    "id": "F-ERmPDGV6Dw"
   },
   "source": [
    "### 3.1 `while` Loop\n",
    "\n",
    "The `while` loop is useful when you want to keep looping until a condition becomes `False`.\n",
    "\n",
    "### Syntax:\n",
    "```python\n",
    "while condition:\n",
    "    # Code block to repeat\n",
    "```"
   ]
  },
  {
   "cell_type": "code",
   "execution_count": null,
   "metadata": {
    "id": "YNbJ6LWAWLEB"
   },
   "outputs": [],
   "source": [
    "# Example 1: Print numbers from 1 to 5 using a while loop\n",
    "num = 1\n",
    "\n",
    "while num <= 5:\n",
    "    print(num)\n",
    "    num += 1"
   ]
  },
  {
   "cell_type": "code",
   "execution_count": null,
   "metadata": {
    "id": "i_kpM5AIWT7a"
   },
   "outputs": [],
   "source": [
    "# Example 2: Countdown from 5 to 1\n",
    "count = 5\n",
    "\n",
    "while count > 0:\n",
    "    print(count)\n",
    "    count -= 1\n",
    "print(\"Blast off!\")"
   ]
  },
  {
   "cell_type": "code",
   "execution_count": null,
   "metadata": {
    "id": "rFn-GqpFWUIy"
   },
   "outputs": [],
   "source": [
    "# Example 3: Keep asking for a number until the user enters a positive number\n",
    "num = -1\n",
    "\n",
    "while num < 0:\n",
    "    num = int(input(\"Enter a positive number: \"))\n",
    "    if num < 0:\n",
    "        print(\"That's not positive. Try again!\")\n",
    "\n",
    "print(\"Thank you!\")"
   ]
  },
  {
   "cell_type": "markdown",
   "metadata": {
    "id": "dqLoVpZgVs75"
   },
   "source": [
    "### 3.2 `for` Loop\n",
    "\n",
    "The `for` loop is useful when you know the number of iterations or are iterating over a sequence.\n",
    "\n",
    "### Syntax:\n",
    "```python\n",
    "for variable in sequence:\n",
    "    # Code block to repeat\n",
    "```"
   ]
  },
  {
   "cell_type": "markdown",
   "metadata": {
    "id": "nncHBjJ9mmS6"
   },
   "source": [
    "The range() function in Python generates a sequence of numbers. It's often used in loops to repeat a block of code a specific number of times.\n",
    "\n",
    "syntax:\n",
    "```python\n",
    "range(start, stop + 1, step)\n",
    "```"
   ]
  },
  {
   "cell_type": "code",
   "execution_count": 5,
   "metadata": {
    "colab": {
     "base_uri": "https://localhost:8080/"
    },
    "id": "5IF7kCvwl8Wf",
    "outputId": "3ea31e28-f11a-4c5a-f976-48753a9c8012"
   },
   "outputs": [
    {
     "name": "stdout",
     "output_type": "stream",
     "text": [
      "range(1, 6)\n"
     ]
    }
   ],
   "source": [
    "num = range(1, 6)\n",
    "print(num)"
   ]
  },
  {
   "cell_type": "markdown",
   "metadata": {
    "id": "DsHav9YwnGII"
   },
   "source": [
    "\n",
    "The range function in Python generates a sequence of numbers, but it doesn’t produce a list when printed directly. Instead, it returns a range object. To see the numbers, you need to explicitly iterate over it or convert it into a list."
   ]
  },
  {
   "cell_type": "code",
   "execution_count": 6,
   "metadata": {
    "colab": {
     "base_uri": "https://localhost:8080/"
    },
    "id": "K9FRPmnUnMAg",
    "outputId": "e2d82492-d904-4f49-e00c-1a487de9cdc7"
   },
   "outputs": [
    {
     "name": "stdout",
     "output_type": "stream",
     "text": [
      "[1, 2, 3, 4, 5]\n"
     ]
    }
   ],
   "source": [
    "print(list(num))"
   ]
  },
  {
   "cell_type": "code",
   "execution_count": null,
   "metadata": {
    "id": "Fh0RBFUxVdGK"
   },
   "outputs": [],
   "source": [
    "# Example 1: Print numbers from 1 to 5\n",
    "for i in range(1, 6):\n",
    "    print(i)"
   ]
  },
  {
   "cell_type": "code",
   "execution_count": null,
   "metadata": {
    "id": "ant8ofUMWAOv"
   },
   "outputs": [],
   "source": [
    "# Example 2: Print each fruit in a list\n",
    "fruits = [\"apple\", \"banana\", \"cherry\"]\n",
    "\n",
    "for fruit in fruits:\n",
    "    print(f\"I like {fruit}.\")"
   ]
  },
  {
   "cell_type": "code",
   "execution_count": null,
   "metadata": {
    "id": "5NCxQZGPWCOZ"
   },
   "outputs": [],
   "source": [
    "# Example 3: Print characters of a string\n",
    "word = \"Python\"\n",
    "\n",
    "for char in word:\n",
    "    print(char)"
   ]
  },
  {
   "cell_type": "markdown",
   "metadata": {
    "id": "q01sAlPeG8b3"
   },
   "source": [
    "# Assignments"
   ]
  },
  {
   "cell_type": "markdown",
   "metadata": {
    "id": "rpwCg_jLVaxA"
   },
   "source": [
    "### **Assignment** [conditional statement]:\n",
    "Write a program that checks if a person is eligible to vote. If their age is 18 or older, print \"Eligible to vote.\" Otherwise, print \"Not eligible to vote.\""
   ]
  },
  {
   "cell_type": "code",
   "execution_count": null,
   "metadata": {
    "id": "GUEZjFtxnpjD"
   },
   "outputs": [],
   "source": [
    "# Enter your code here"
   ]
  },
  {
   "cell_type": "markdown",
   "metadata": {
    "id": "Z6aD1TLeUUsx"
   },
   "source": [
    "### **Assignment** [conditional statement]:\n",
    "Write a program to check if a number is both positive **and** even."
   ]
  },
  {
   "cell_type": "code",
   "execution_count": null,
   "metadata": {
    "id": "vFfOOPIenqH7"
   },
   "outputs": [],
   "source": [
    "# Enter your code here"
   ]
  },
  {
   "cell_type": "markdown",
   "metadata": {
    "id": "glzSf6YnGtAa"
   },
   "source": [
    "### **Assignment** [Conditional Statement]:\n",
    "Write a program to check if a number is divisible by both 3 and 5.  \n",
    "- If it is, print `\"Divisible by 3 and 5.\"`  \n",
    "- Otherwise, print `\"Not divisible by 3 and 5.\"`\n",
    "\n"
   ]
  },
  {
   "cell_type": "code",
   "execution_count": null,
   "metadata": {
    "id": "E9VMpbxZHBbm"
   },
   "outputs": [],
   "source": [
    "# Enter your code here"
   ]
  },
  {
   "cell_type": "markdown",
   "metadata": {
    "id": "ZSy1c_vRWO0U"
   },
   "source": [
    "### **Assignment** [Loop Statement]:\n",
    "Write a `for` loop to print the first 5 multiples of 3."
   ]
  },
  {
   "cell_type": "code",
   "execution_count": null,
   "metadata": {
    "id": "MiQfqIovnqlz"
   },
   "outputs": [],
   "source": [
    "# Enter your code here"
   ]
  },
  {
   "cell_type": "markdown",
   "metadata": {
    "id": "MYaAPREIG1-S"
   },
   "source": [
    "### **Assignment** [Loop Statement]:\n",
    "Write a `for` loop to calculate and print the sum of the first 10 natural numbers (1, 2, 3, ..., 10)."
   ]
  },
  {
   "cell_type": "code",
   "execution_count": null,
   "metadata": {
    "id": "8miqfniWHEkD"
   },
   "outputs": [],
   "source": [
    "# Enter your code here"
   ]
  }
 ],
 "metadata": {
  "colab": {
   "provenance": []
  },
  "kernelspec": {
   "display_name": "Python 3",
   "name": "python3"
  },
  "language_info": {
   "name": "python"
  }
 },
 "nbformat": 4,
 "nbformat_minor": 0
}
