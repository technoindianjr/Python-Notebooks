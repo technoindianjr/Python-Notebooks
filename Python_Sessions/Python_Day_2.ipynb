{
  "nbformat": 4,
  "nbformat_minor": 0,
  "metadata": {
    "colab": {
      "provenance": []
    },
    "kernelspec": {
      "name": "python3",
      "display_name": "Python 3"
    },
    "language_info": {
      "name": "python"
    }
  },
  "cells": [
    {
      "cell_type": "markdown",
      "source": [
        "# Variables and String Manipulation in Python"
      ],
      "metadata": {
        "id": "1MULlQuRNswD"
      }
    },
    {
      "cell_type": "markdown",
      "source": [
        "## What Are Variables?\n",
        "\n",
        "A **variable** is like a container that holds information. For example:\n",
        "- A jar can hold cookies 🍪.\n",
        "- A variable can hold a number, text, or other data.\n",
        "\n",
        "Here’s a simple example:\n"
      ],
      "metadata": {
        "id": "8tozrZHtN0Fq"
      }
    },
    {
      "cell_type": "code",
      "execution_count": null,
      "metadata": {
        "id": "QmOLNx_19SP3"
      },
      "outputs": [],
      "source": [
        "# Example: Assigning a value to a variable\n",
        "x = 5  # x holds the value 5\n",
        "y = \"Hello, world!\"  # y holds the text \"Hello, world!\""
      ]
    },
    {
      "cell_type": "code",
      "source": [
        "print(x)  # Output: 5\n",
        "print(y)  # Output: Hello, world!"
      ],
      "metadata": {
        "id": "4AZslTZqP5O6"
      },
      "execution_count": null,
      "outputs": []
    },
    {
      "cell_type": "markdown",
      "source": [
        "**1. Declaring Variables**\n",
        "\n",
        "Variables are declared when you assign a value to them using the = symbol."
      ],
      "metadata": {
        "id": "XWZMR921QHLo"
      }
    },
    {
      "cell_type": "code",
      "source": [
        "number = 10  # number stores the value 10\n",
        "name = \"Rohit\"  # name stores the text \"Alice\"\n",
        "pi = 3.14  # pi stores the value of π\n",
        "\n",
        "# Printing variables\n",
        "print(\"The value of number is:\", number)\n",
        "print(\"The name is:\", name)\n",
        "print(\"The value of pi is:\", pi)"
      ],
      "metadata": {
        "id": "iPLK1yL0QLsC"
      },
      "execution_count": null,
      "outputs": []
    },
    {
      "cell_type": "markdown",
      "source": [
        "# 2. Using Variables in Math Operations\n",
        "\n",
        "Variables can store numbers, and you can use them to perform math operations such as:\n",
        "*   Addition +\n",
        "*   Subtraction -\n",
        "*   Multiplication *\n",
        "*   Division /\n",
        "*   Exponentiation **\n",
        "*   Modulus (remainder) %"
      ],
      "metadata": {
        "id": "on7n6pFeQeIL"
      }
    },
    {
      "cell_type": "code",
      "source": [
        "a = 10\n",
        "b = 5\n",
        "\n",
        "print(\"Addition:\", a + b)  # 10 + 5 = 15\n",
        "print(\"Subtraction:\", a - b)  # 10 - 5 = 5\n",
        "print(\"Multiplication:\", a * b)  # 10 * 5 = 50\n",
        "print(\"Division:\", a / b)  # 10 / 5 = 2.0\n",
        "print(\"Exponentiation:\", a ** 2)  # 10^2 = 100\n",
        "print(\"Modulus (remainder):\", a % 3)  # 10 % 3 = 1"
      ],
      "metadata": {
        "id": "SXRTf_q8QgA2"
      },
      "execution_count": null,
      "outputs": []
    },
    {
      "cell_type": "markdown",
      "source": [
        "# 3. Updating Variables Using Math Operations\n",
        "You can update variables by performing operations on their current values."
      ],
      "metadata": {
        "id": "BDrjABnpSwr-"
      }
    },
    {
      "cell_type": "code",
      "source": [
        "x = 10\n",
        "print(\"Initial value of x:\", x)\n",
        "\n",
        "x = x + 5\n",
        "print(\"After adding 5:\", x)\n",
        "\n",
        "x += 10\n",
        "print(\"After adding 10 using shortcut:\", x)"
      ],
      "metadata": {
        "id": "5322A2sAStJ6"
      },
      "execution_count": null,
      "outputs": []
    },
    {
      "cell_type": "code",
      "source": [
        "x = 10\n",
        "\n",
        "x -= 3\n",
        "print(\"After subtracting 3:\", x)"
      ],
      "metadata": {
        "id": "5Ryy1yXfS_lV"
      },
      "execution_count": null,
      "outputs": []
    },
    {
      "cell_type": "code",
      "source": [
        "x = 10\n",
        "\n",
        "x *= 3\n",
        "print(\"After Multiplication 3:\", x)"
      ],
      "metadata": {
        "id": "ClCfZ_KBTD5f"
      },
      "execution_count": null,
      "outputs": []
    },
    {
      "cell_type": "code",
      "source": [
        "x = 10\n",
        "\n",
        "x /= 3\n",
        "print(\"After division 3:\", x)"
      ],
      "metadata": {
        "id": "IJnkCReJTErk"
      },
      "execution_count": null,
      "outputs": []
    },
    {
      "cell_type": "markdown",
      "metadata": {
        "id": "9HyUUvtC9Wv8"
      },
      "source": [
        "## 2.5 Strings\n",
        "As you can see, variables store values, for use at a later time. You can change them at any time. You can put in more than numbers, though. Variables can hold things like text. A variable that holds text is called a string. Try this program:"
      ]
    },
    {
      "cell_type": "code",
      "execution_count": 1,
      "metadata": {
        "id": "dmEfIJ3D9Wv9",
        "colab": {
          "base_uri": "https://localhost:8080/"
        },
        "outputId": "ba60dc2d-5838-4207-e8b7-a0af86e7ef96"
      },
      "outputs": [
        {
          "output_type": "stream",
          "name": "stdout",
          "text": [
            "Good morning\n",
            "Good morning to you too!\n"
          ]
        }
      ],
      "source": [
        "#giving variables text, and adding text.\n",
        "word1 = \"Good\"\n",
        "word2 = \"morning\"\n",
        "word3 = \"to you too!\"\n",
        "print(word1, word2)\n",
        "sentence = word1 + \" \" + word2 + \" \" + word3\n",
        "print(sentence)"
      ]
    },
    {
      "cell_type": "code",
      "execution_count": 2,
      "metadata": {
        "id": "LZCnolCb9Wv9",
        "colab": {
          "base_uri": "https://localhost:8080/"
        },
        "outputId": "d2be00ff-e8ca-4795-d835-ddebd442dbef"
      },
      "outputs": [
        {
          "output_type": "execute_result",
          "data": {
            "text/plain": [
              "10"
            ]
          },
          "metadata": {},
          "execution_count": 2
        }
      ],
      "source": [
        "text = \"abcdefghij\"\n",
        "len(text)"
      ]
    },
    {
      "cell_type": "code",
      "execution_count": 3,
      "metadata": {
        "id": "VAFJ-Xem9Wv9",
        "colab": {
          "base_uri": "https://localhost:8080/"
        },
        "outputId": "52c97b01-49af-474d-b0ba-3433018022fa"
      },
      "outputs": [
        {
          "output_type": "stream",
          "name": "stdout",
          "text": [
            "e\n"
          ]
        }
      ],
      "source": [
        "print(text[4])"
      ]
    },
    {
      "cell_type": "markdown",
      "source": [
        "a b c d e f g h i j\n",
        "\n",
        "0 1 2 3 4 5 6 7 8 9"
      ],
      "metadata": {
        "id": "6yztiOuuRENY"
      }
    },
    {
      "cell_type": "code",
      "execution_count": null,
      "metadata": {
        "id": "pNbwCh--9WwA"
      },
      "outputs": [],
      "source": [
        "print(text.find('e'))\n",
        "# find the position of character"
      ]
    },
    {
      "cell_type": "markdown",
      "source": [
        "**String Slicing**\n",
        "\n",
        "[start : end + 1 : step]"
      ],
      "metadata": {
        "id": "wCfPsuOcTarJ"
      }
    },
    {
      "cell_type": "code",
      "execution_count": null,
      "metadata": {
        "id": "tjfKm-gJ9Wv-"
      },
      "outputs": [],
      "source": [
        "print(text[:4])\n",
        "# start from the very beginning and end at index 3"
      ]
    },
    {
      "cell_type": "code",
      "execution_count": null,
      "metadata": {
        "id": "xpuIBMwI9Wv-"
      },
      "outputs": [],
      "source": [
        "print(text[4:])\n",
        "# start from index 4 and end at the end of string"
      ]
    },
    {
      "cell_type": "markdown",
      "metadata": {
        "id": "t2a5VMQ19Wv-"
      },
      "source": [
        "Here you see that `[:4]` selects characters 0,1,2,3, which is \"abcd\". With `[4:]` we start with position 4 (counting from 0!) until the end of the string, which results in \"efghij\"."
      ]
    },
    {
      "cell_type": "code",
      "execution_count": null,
      "metadata": {
        "id": "tECKkm1Y9Wv-"
      },
      "outputs": [],
      "source": [
        "print(text[4:8])"
      ]
    },
    {
      "cell_type": "code",
      "execution_count": 5,
      "metadata": {
        "id": "NBHycW3u9Wv_",
        "colab": {
          "base_uri": "https://localhost:8080/"
        },
        "outputId": "7a174ab4-a010-4bc5-bf69-4d0b47005525"
      },
      "outputs": [
        {
          "output_type": "stream",
          "name": "stdout",
          "text": [
            "i\n"
          ]
        }
      ],
      "source": [
        "print(text[-2])"
      ]
    },
    {
      "cell_type": "markdown",
      "source": [
        " a   b  c  d  e  f  g  h  i  j\n",
        "\n",
        "-10 -9 -8 -7 -6 -5 -4 -3 -2 -1"
      ],
      "metadata": {
        "id": "DtMQpZqISEHi"
      }
    },
    {
      "cell_type": "markdown",
      "metadata": {
        "id": "El0a1aEu9Wv_"
      },
      "source": [
        "you have selected the second character from the right! Note that here we start counting with -1 for the first character on the right."
      ]
    },
    {
      "cell_type": "code",
      "execution_count": null,
      "metadata": {
        "id": "P5CoEp1b9Wv_"
      },
      "outputs": [],
      "source": [
        "print(text[-4:])"
      ]
    },
    {
      "cell_type": "code",
      "execution_count": null,
      "metadata": {
        "id": "vhFinerv9Wv_"
      },
      "outputs": [],
      "source": [
        "print(text[::2])\n",
        "# every 2nd character"
      ]
    },
    {
      "cell_type": "code",
      "execution_count": null,
      "metadata": {
        "id": "Yrsp2jyV9Wv_"
      },
      "outputs": [],
      "source": [
        "number_of_characters = len(sentence)\n",
        "last_word = sentence[-4:-1]\n",
        "print(\"The sentence has {} characters and the last word is: {}\".format(number_of_characters,last_word))"
      ]
    },
    {
      "cell_type": "code",
      "execution_count": null,
      "metadata": {
        "id": "Q1iJZ1849Wv_"
      },
      "outputs": [],
      "source": [
        "print(f\"The sentence has {number_of_characters} characters and the last word is: {last_word}\")"
      ]
    },
    {
      "cell_type": "code",
      "execution_count": null,
      "metadata": {
        "id": "2sIV6V_-9Wv_"
      },
      "outputs": [],
      "source": [
        "print(sentence.count('o'))"
      ]
    },
    {
      "cell_type": "code",
      "execution_count": null,
      "metadata": {
        "id": "1VeDok0A9WwA"
      },
      "outputs": [],
      "source": [
        "sometext = \"Hey you, how are you doing?\"\n",
        "print(sometext.rfind(\"you\"))"
      ]
    },
    {
      "cell_type": "markdown",
      "metadata": {
        "id": "rxBbAt7b9WwA"
      },
      "source": [
        "`rfind` returns the lasts occurance of a string. So in `sometext` we have the word \"you\" twice. `rfind` returns `17` meaning that the last time that it found \"you\" is starting at position 17 (counting from 0).\n",
        "\n",
        "There are a few other useful string operations. Run the code below and will be obvious what it does:"
      ]
    },
    {
      "cell_type": "code",
      "execution_count": null,
      "metadata": {
        "id": "fDnYxpU79WwA"
      },
      "outputs": [],
      "source": [
        "print(sometext.upper())\n",
        "\n",
        "print(sometext.split(\",\"))\n",
        "\n",
        "print(sometext.replace(\"?\",\"!\"))"
      ]
    },
    {
      "cell_type": "code",
      "execution_count": null,
      "metadata": {
        "id": "K-FQM2Y69WwE"
      },
      "outputs": [],
      "source": [
        "print(\"This is a very long sentence and I want to split it into two lines.\")\n",
        "print(\"This is a very long sentence\\nand I want to split it into two lines.\")"
      ]
    }
  ]
}